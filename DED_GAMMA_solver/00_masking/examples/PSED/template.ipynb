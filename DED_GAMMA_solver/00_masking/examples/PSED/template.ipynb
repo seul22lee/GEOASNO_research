{
 "cells": [
  {
   "cell_type": "code",
   "execution_count": 1,
   "id": "61aee72b",
   "metadata": {
    "ExecuteTime": {
     "end_time": "2023-01-30T05:32:43.327842Z",
     "start_time": "2023-01-30T05:32:39.914363Z"
    }
   },
   "outputs": [
    {
     "data": {
      "text/plain": [
       "<CUDA Device 0>"
      ]
     },
     "execution_count": 1,
     "metadata": {},
     "output_type": "execute_result"
    }
   ],
   "source": [
    "import os\n",
    "from gamma.simulator.gamma import domain_mgr, heat_solve_mgr\n",
    "import cupy as cp\n",
    "import numpy as np\n",
    "import pyvista as pv\n",
    "import vtk\n",
    "import zarr as z\n",
    "\n",
    "# Before starting, check using nvidia-smi\n",
    "cp.cuda.Device(0).use()"
   ]
  },
  {
   "cell_type": "code",
   "execution_count": 4,
   "id": "bde9463b",
   "metadata": {
    "ExecuteTime": {
     "end_time": "2023-01-30T05:32:44.085204Z",
     "start_time": "2023-01-30T05:32:44.081378Z"
    }
   },
   "outputs": [],
   "source": [
    "def save_vtk(filename):\n",
    "    active_elements = domain.elements[domain.active_elements].tolist()\n",
    "    active_cells = np.array([item for sublist in active_elements for item in [8] + sublist])\n",
    "    active_cell_type = np.array([vtk.VTK_HEXAHEDRON] * len(active_elements))\n",
    "    points = domain.nodes.get()\n",
    "    active_grid = pv.UnstructuredGrid(active_cells, active_cell_type, points)\n",
    "    active_grid.point_data['temp'] = heat_solver.temperature.get()\n",
    "    active_grid.save(filename)"
   ]
  },
  {
   "cell_type": "code",
   "execution_count": 5,
   "id": "557e9d71",
   "metadata": {
    "ExecuteTime": {
     "end_time": "2023-01-30T05:32:48.484709Z",
     "start_time": "2023-01-30T05:32:44.774161Z"
    }
   },
   "outputs": [
    {
     "name": "stdout",
     "output_type": "stream",
     "text": [
      "Time of reading input files: 1.264573335647583\n",
      "Time of calculating critical timestep: 0.32566165924072266\n",
      "Time of reading and interpolating toolpath: 0.03569817543029785\n",
      "Number of nodes: 96874\n",
      "Number of elements: 83270\n",
      "Number of time-steps: 142500\n",
      "Time of generating surface: 1.572815179824829\n"
     ]
    }
   ],
   "source": [
    "domain = domain_mgr(filename='wall.k')\n",
    "heat_solver = heat_solve_mgr(domain)"
   ]
  },
  {
   "cell_type": "code",
   "execution_count": 6,
   "id": "99860984",
   "metadata": {},
   "outputs": [],
   "source": [
    "root_group = z.group('example.zarr')\n",
    "g1 = root_group.create_group('g1')\n",
    "g2 = g1.create_group('g2')\n",
    "d1 = g2.create_dataset('temperature', shape=(1, domain.nodes.shape[0]))"
   ]
  },
  {
   "cell_type": "code",
   "execution_count": 10,
   "id": "ee2c059f",
   "metadata": {
    "ExecuteTime": {
     "end_time": "2023-01-30T05:33:46.687598Z",
     "start_time": "2023-01-30T05:33:12.808421Z"
    }
   },
   "outputs": [
    {
     "name": "stdout",
     "output_type": "stream",
     "text": [
      "Current time:  1.0000000000000007, Percentage done:  0.3508771929824564%\n",
      "Current time:  1.500000000000001, Percentage done:  0.5263157894736846%\n",
      "Current time:  2.0000000000000013, Percentage done:  0.7017543859649128%\n"
     ]
    }
   ],
   "source": [
    "output_step = 0.5  # output time step\n",
    "# initialization\n",
    "file_num = 0\n",
    "if not os.path.exists('./vtk'):\n",
    "    os.mkdir('./vtk')\n",
    "\n",
    "# save file\n",
    "filename = 'vtk/u{:05d}.vtk'.format(file_num)\n",
    "save_vtk(filename)\n",
    "file_num = file_num + 1\n",
    "output_time = domain.current_sim_time\n",
    "# time loop\n",
    "while domain.current_sim_time < domain.end_sim_time:\n",
    "    # here is where you want to make changes at each time step\n",
    "    heat_solver.time_integration()\n",
    "\n",
    "    d1.append(cp.expand_dims(heat_solver.temperature, axis=0).get(), axis=0)\n",
    "    # save file\n",
    "    if domain.current_sim_time >= output_time + output_step:\n",
    "        print(\"Current time:  {}, Percentage done:  {}%\".format(\n",
    "            domain.current_sim_time, 100 * domain.current_sim_time / domain.end_sim_time))\n",
    "        filename = 'vtk/u{:05d}.vtk'.format(file_num)\n",
    "        save_vtk(filename)\n",
    "        file_num = file_num + 1\n",
    "        output_time = domain.current_sim_time"
   ]
  },
  {
   "cell_type": "markdown",
   "id": "3b884e22",
   "metadata": {},
   "source": [
    "These are the parameters you might need for this project:"
   ]
  },
  {
   "cell_type": "code",
   "execution_count": 9,
   "id": "1eb8ddda",
   "metadata": {
    "ExecuteTime": {
     "end_time": "2023-01-30T05:33:46.694236Z",
     "start_time": "2023-01-30T05:33:46.688751Z"
    }
   },
   "outputs": [
    {
     "data": {
      "text/plain": [
       "0.002"
      ]
     },
     "execution_count": 9,
     "metadata": {},
     "output_type": "execute_result"
    }
   ],
   "source": [
    "# absorpted laser power\n",
    "domain.dt"
   ]
  },
  {
   "cell_type": "code",
   "execution_count": 6,
   "id": "6860f56e",
   "metadata": {
    "ExecuteTime": {
     "end_time": "2023-01-30T05:33:46.701926Z",
     "start_time": "2023-01-30T05:33:46.695237Z"
    }
   },
   "outputs": [
    {
     "data": {
      "text/plain": [
       "array([300.03985522, 367.72030422, 365.4099788 , ..., 300.        ,\n",
       "       300.        , 300.        ])"
      ]
     },
     "execution_count": 6,
     "metadata": {},
     "output_type": "execute_result"
    }
   ],
   "source": [
    "# nodal temperature array\n",
    "heat_solver.temperature"
   ]
  },
  {
   "cell_type": "code",
   "execution_count": 7,
   "id": "f81eae18",
   "metadata": {
    "ExecuteTime": {
     "end_time": "2023-01-30T05:33:46.706424Z",
     "start_time": "2023-01-30T05:33:46.703142Z"
    }
   },
   "outputs": [
    {
     "data": {
      "text/plain": [
       "array([[ 22.626017,   0.892857,  -8.      ],\n",
       "       [  3.533256,  -1.680824,  -2.      ],\n",
       "       [  3.155609,  -1.686837,  -2.      ],\n",
       "       ...,\n",
       "       [-23.      ,   1.25    ,  30.      ],\n",
       "       [-23.      ,  -1.25    ,  29.625   ],\n",
       "       [-23.      ,  -1.25    ,  30.      ]])"
      ]
     },
     "execution_count": 7,
     "metadata": {},
     "output_type": "execute_result"
    }
   ],
   "source": [
    "# node coordinates\n",
    "domain.nodes"
   ]
  }
 ],
 "metadata": {
  "kernelspec": {
   "display_name": "Python 3",
   "language": "python",
   "name": "python3"
  },
  "language_info": {
   "codemirror_mode": {
    "name": "ipython",
    "version": 3
   },
   "file_extension": ".py",
   "mimetype": "text/x-python",
   "name": "python",
   "nbconvert_exporter": "python",
   "pygments_lexer": "ipython3",
   "version": "3.10.9"
  },
  "vscode": {
   "interpreter": {
    "hash": "9303b6ed79945d10020210cc5bae7a795958a7811e1d45f873691096b315dfdb"
   }
  }
 },
 "nbformat": 4,
 "nbformat_minor": 5
}
