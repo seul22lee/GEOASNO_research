{
 "cells": [
  {
   "cell_type": "code",
   "execution_count": 1,
   "id": "3242d467",
   "metadata": {
    "ExecuteTime": {
     "end_time": "2023-05-24T19:19:14.984287Z",
     "start_time": "2023-05-24T19:19:13.047716Z"
    }
   },
   "outputs": [],
   "source": [
    "import sys\n",
    "from gamma.simulator.preprocessor import write_keywords,write_birth,write_parameters"
   ]
  },
  {
   "cell_type": "code",
   "execution_count": 4,
   "id": "9d69f4cc",
   "metadata": {
    "ExecuteTime": {
     "end_time": "2023-05-24T20:51:00.786562Z",
     "start_time": "2023-05-24T20:50:50.932083Z"
    }
   },
   "outputs": [],
   "source": [
    "file_name = 'single_clad.inp' #input mesh file from abaqus\n",
    "toolpath_file = 'toolpath.crs'\n",
    "output_file = 'single_clad.k' #define keyword file name\n",
    "\n",
    "substrate_height = 10.\n",
    "radius = 1.12\n",
    "path_resolution = 0.1 # half of the element size\n",
    "write_keywords(file_name,output_file,substrate_height)\n",
    "write_birth(output_file,toolpath_file,path_resolution,radius,gif_end=5,nFrame=50,mode=1,camera_position=[(0, -50, 75),(0, 0, 0),(0.0, 0.0, 1.0)])\n",
    "write_parameters(output_file)"
   ]
  },
  {
   "cell_type": "code",
   "execution_count": null,
   "id": "2eaa2552",
   "metadata": {},
   "outputs": [],
   "source": []
  }
 ],
 "metadata": {
  "kernelspec": {
   "display_name": "Python 3",
   "language": "python",
   "name": "python3"
  },
  "language_info": {
   "codemirror_mode": {
    "name": "ipython",
    "version": 3
   },
   "file_extension": ".py",
   "mimetype": "text/x-python",
   "name": "python",
   "nbconvert_exporter": "python",
   "pygments_lexer": "ipython3",
   "version": "3.8.8"
  }
 },
 "nbformat": 4,
 "nbformat_minor": 5
}
