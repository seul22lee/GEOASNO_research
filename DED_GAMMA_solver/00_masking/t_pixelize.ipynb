{
 "cells": [
  {
   "cell_type": "code",
   "execution_count": null,
   "id": "e14ad719",
   "metadata": {},
   "outputs": [],
   "source": [
    "import numpy as np\n",
    "\n",
    "BYTES_PER_PIXEL = 4\n",
    "\n",
    "class ImageData:\n",
    "    def __init__(self, width, height):\n",
    "        self.width = width\n",
    "        self.height = height\n",
    "        self.data = np.zeros((width * height * BYTES_PER_PIXEL), dtype=np.uint8)\n",
    "\n",
    "def index_for_pixel_location(image_data, x, y):\n",
    "    return (y * image_data.width + x) * BYTES_PER_PIXEL\n",
    "\n",
    "def pixel_location_for_index(image_data, idx):\n",
    "    pixel_idx = idx // BYTES_PER_PIXEL\n",
    "    y = pixel_idx // image_data.width\n",
    "    x = pixel_idx % image_data.width\n",
    "    return { 'x': x, 'y': y }\n",
    "\n",
    "def fill_pixel(image_data, x, y):\n",
    "    idx = index_for_pixel_location(image_data, x, y)\n",
    "    image_data.data[idx + 0] = 0   # Red\n",
    "    image_data.data[idx + 1] = 0   # Green\n",
    "    image_data.data[idx + 2] = 0   # Blue\n",
    "    image_data.data[idx + 3] = 255 # Alpha\n",
    "\n",
    "def fill_rectangle(image_data, x1, y1, width, height):\n",
    "    for y in range(y1, y1 + height):\n",
    "        for x in range(x1, x1 + width):\n",
    "            fill_pixel(image_data, x, y)\n",
    "def lerp(a, b, t):\n",
    "    return a * (1.0 - t) + b * t\n",
    "\n",
    "def draw(image_data, secs):\n",
    "    startX = 1\n",
    "    endX = 38\n",
    "    x = int(lerp(startX, endX, secs))\n",
    "    y = 1\n",
    "    fill_rectangle(image_data, x, y, 8, 8)\n"
   ]
  },
  {
   "cell_type": "code",
   "execution_count": null,
   "id": "765c2697",
   "metadata": {},
   "outputs": [],
   "source": []
  },
  {
   "cell_type": "code",
   "execution_count": 9,
   "id": "83ec3452",
   "metadata": {},
   "outputs": [
    {
     "data": {
      "image/png": "[encoded data removed]",
      "text/plain": [
       "<Figure size 640x480 with 1 Axes>"
      ]
     },
     "metadata": {},
     "output_type": "display_data"
    }
   ],
   "source": [
    "import numpy as np\n",
    "from PIL import Image\n",
    "import matplotlib.pyplot as plt\n",
    "\n",
    "# 기본 상수\n",
    "BYTES_PER_PIXEL = 4\n",
    "\n",
    "# ImageData 클래스\n",
    "class ImageData:\n",
    "    def __init__(self, width, height):\n",
    "        self.width = width\n",
    "        self.height = height\n",
    "        self.data = np.zeros((width * height * BYTES_PER_PIXEL), dtype=np.uint8)\n",
    "\n",
    "def index_for_pixel_location(image_data, x, y):\n",
    "    return (y * image_data.width + x) * BYTES_PER_PIXEL\n",
    "\n",
    "def pixel_location_for_index(image_data, idx):\n",
    "    pixel_idx = idx // BYTES_PER_PIXEL\n",
    "    y = pixel_idx // image_data.width\n",
    "    x = pixel_idx % image_data.width\n",
    "    return { 'x': x, 'y': y }\n",
    "\n",
    "def fill_pixel(image_data, x, y):\n",
    "    idx = index_for_pixel_location(image_data, x, y)\n",
    "    image_data.data[idx + 0] = 0   # Red\n",
    "    image_data.data[idx + 1] = 0   # Green\n",
    "    image_data.data[idx + 2] = 0   # Blue\n",
    "    image_data.data[idx + 3] = 255 # Alpha\n",
    "\n",
    "def fill_rectangle(image_data, x1, y1, width, height):\n",
    "    for y in range(y1, y1 + height):\n",
    "        for x in range(x1, x1 + width):\n",
    "            fill_pixel(image_data, x, y)\n",
    "\n",
    "# 이미지 생성 및 사각형 채우기\n",
    "img = ImageData(100, 100)\n",
    "fill_rectangle(img, 10, 10, 30, 40)  # (x1, y1, width, height)\n",
    "\n",
    "# 데이터를 (H, W, 4)로 reshape\n",
    "rgba_array = img.data.reshape((img.height, img.width, 4))\n",
    "\n",
    "# matplotlib으로 시각화\n",
    "plt.imshow(rgba_array)\n",
    "plt.title(\"Filled Rectangle\")\n",
    "plt.axis(\"off\")\n",
    "plt.show()\n"
   ]
  }
 ],
 "metadata": {
  "kernelspec": {
   "display_name": "deepcad",
   "language": "python",
   "name": "python3"
  },
  "language_info": {
   "codemirror_mode": {
    "name": "ipython",
    "version": 3
   },
   "file_extension": ".py",
   "mimetype": "text/x-python",
   "name": "python",
   "nbconvert_exporter": "python",
   "pygments_lexer": "ipython3",
   "version": "3.8.12"
  }
 },
 "nbformat": 4,
 "nbformat_minor": 5
}
