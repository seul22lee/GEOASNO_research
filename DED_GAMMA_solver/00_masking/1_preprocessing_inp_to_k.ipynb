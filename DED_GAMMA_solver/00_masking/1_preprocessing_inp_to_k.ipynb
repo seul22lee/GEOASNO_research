{
 "cells": [
  {
   "cell_type": "markdown",
   "id": "2f64a01f",
   "metadata": {},
   "source": [
    "## inp yz coordinate change"
   ]
  },
  {
   "cell_type": "code",
   "execution_count": 68,
   "id": "38432154",
   "metadata": {},
   "outputs": [
    {
     "name": "stdout",
     "output_type": "stream",
     "text": [
      "✔️ Done: input_00.inp\n",
      "⚠️ File not found: input_01.inp\n"
     ]
    }
   ],
   "source": [
    "import os\n",
    "\n",
    "def swap_yz_in_inp(input_path, output_path):\n",
    "    with open(input_path, 'r') as f:\n",
    "        lines = f.readlines()\n",
    "\n",
    "    new_lines = []\n",
    "    in_node_section = False\n",
    "\n",
    "    for line in lines:\n",
    "        stripped = line.strip()\n",
    "\n",
    "        # Detect start of *Node section\n",
    "        if stripped.lower().startswith(\"*node\"):\n",
    "            in_node_section = True\n",
    "            new_lines.append(line)\n",
    "            continue\n",
    "\n",
    "        # Detect start of a new section\n",
    "        if in_node_section and stripped.startswith(\"*\"):\n",
    "            in_node_section = False\n",
    "\n",
    "        # If in *Node section, swap Y and Z coordinates\n",
    "        if in_node_section and \",\" in line:\n",
    "            parts = line.strip().split(\",\")\n",
    "            if len(parts) >= 4:\n",
    "                node_id = parts[0].strip()\n",
    "                x = parts[1].strip()\n",
    "                y = parts[2].strip()\n",
    "                z = parts[3].strip()\n",
    "                new_line = f\"{node_id}, {x}, {z}, {y}\\n\"  # Swap Y and Z\n",
    "                new_lines.append(new_line)\n",
    "            else:\n",
    "                new_lines.append(line)\n",
    "        else:\n",
    "            new_lines.append(line)\n",
    "\n",
    "    # Ensure output directory exists\n",
    "    os.makedirs(os.path.dirname(output_path), exist_ok=True)\n",
    "\n",
    "    # Write the modified content to output file\n",
    "    with open(output_path, 'w') as f:\n",
    "        f.writelines(new_lines)\n",
    "\n",
    "    print(f\"✔️ Done: {os.path.basename(output_path)}\")\n",
    "\n",
    "# Input and output directories\n",
    "input_dir = \"/home/ftk3187/github/GAMMA/GEOASNO_research/DED_GAMMA_solver/00_masking/input_raw\"\n",
    "output_dir = \"/home/ftk3187/github/GAMMA/GEOASNO_research/DED_GAMMA_solver/00_masking/input_swapped_offset\"\n",
    "\n",
    "k = 2\n",
    "\n",
    "# Loop through input_00.inp to input_99.inp\n",
    "for i in range(k):\n",
    "    fname = f\"input_{i:02d}.inp\"\n",
    "    input_path = os.path.join(input_dir, fname)\n",
    "    output_path = os.path.join(output_dir, fname)\n",
    "\n",
    "    if os.path.exists(input_path):\n",
    "        swap_yz_in_inp(input_path, output_path)\n",
    "    else:\n",
    "        print(f\"⚠️ File not found: {fname}\")\n"
   ]
  },
  {
   "cell_type": "markdown",
   "id": "67be8952",
   "metadata": {},
   "source": [
    "## substrate height offset"
   ]
  },
  {
   "cell_type": "code",
   "execution_count": 69,
   "id": "7752fc67",
   "metadata": {},
   "outputs": [
    {
     "name": "stdout",
     "output_type": "stream",
     "text": [
      "✔️ Done: input_00.inp\n",
      "✔️ Done: input_01.inp\n"
     ]
    }
   ],
   "source": [
    "import os\n",
    "\n",
    "def offset_z_in_inp(input_path, output_path, substrate_height=20.0):\n",
    "    with open(input_path, 'r') as f:\n",
    "        lines = f.readlines()\n",
    "\n",
    "    new_lines = []\n",
    "    in_node_section = False\n",
    "\n",
    "    for line in lines:\n",
    "        stripped = line.strip()\n",
    "\n",
    "        # Detect start of *Node section\n",
    "        if stripped.lower().startswith(\"*node\"):\n",
    "            in_node_section = True\n",
    "            new_lines.append(line)\n",
    "            continue\n",
    "\n",
    "        # Detect start of a new section\n",
    "        if in_node_section and stripped.startswith(\"*\"):\n",
    "            in_node_section = False\n",
    "\n",
    "        # If in *Node section, offset Z coordinate\n",
    "        if in_node_section and \",\" in line:\n",
    "            parts = line.strip().split(\",\")\n",
    "            if len(parts) >= 4:\n",
    "                node_id = parts[0].strip()\n",
    "                x = float(parts[1].strip())\n",
    "                y = float(parts[2].strip())\n",
    "                z = float(parts[3].strip()) + substrate_height  # Apply Z offset\n",
    "                new_line = f\"{node_id}, {x}, {y}, {z}\\n\"\n",
    "                new_lines.append(new_line)\n",
    "            else:\n",
    "                new_lines.append(line)\n",
    "        else:\n",
    "            new_lines.append(line)\n",
    "\n",
    "    # Ensure output directory exists\n",
    "    os.makedirs(os.path.dirname(output_path), exist_ok=True)\n",
    "\n",
    "    # Write the modified content to output file\n",
    "    with open(output_path, 'w') as f:\n",
    "        f.writelines(new_lines)\n",
    "\n",
    "    print(f\"✔️ Done: {os.path.basename(output_path)}\")\n",
    "\n",
    "# Input and output directories\n",
    "input_dir = \"/home/ftk3187/github/GAMMA/GEOASNO_research/DED_GAMMA_solver/00_masking/input_swapped_offset\"\n",
    "output_dir = \"/home/ftk3187/github/GAMMA/GEOASNO_research/DED_GAMMA_solver/00_masking/input_swapped_offset\"\n",
    "\n",
    "k = 2  # number of files\n",
    "\n",
    "# Loop through input_00.inp to input_99.inp\n",
    "for i in range(k):\n",
    "    fname = f\"input_{i:02d}.inp\"\n",
    "    input_path = os.path.join(input_dir, fname)\n",
    "    output_path = os.path.join(output_dir, fname)\n",
    "\n",
    "    if os.path.exists(input_path):\n",
    "        offset_z_in_inp(input_path, output_path, substrate_height=20.0)\n",
    "    else:\n",
    "        print(f\"⚠️ File not found: {fname}\")\n"
   ]
  },
  {
   "cell_type": "markdown",
   "id": "f9f9f4a5",
   "metadata": {},
   "source": [
    "## plot"
   ]
  },
  {
   "cell_type": "code",
   "execution_count": 70,
   "id": "85f459ea",
   "metadata": {},
   "outputs": [],
   "source": [
    "import matplotlib.pyplot as plt\n",
    "from mpl_toolkits.mplot3d import Axes3D\n",
    "\n",
    "def extract_nodes_from_inp(inp_path):\n",
    "    with open(inp_path, 'r') as f:\n",
    "        lines = f.readlines()\n",
    "\n",
    "    coords = []\n",
    "    in_node_section = False\n",
    "\n",
    "    for line in lines:\n",
    "        stripped = line.strip()\n",
    "\n",
    "        if stripped.lower().startswith(\"*node\"):\n",
    "            in_node_section = True\n",
    "            continue\n",
    "        elif in_node_section and stripped.startswith(\"*\"):\n",
    "            break\n",
    "        elif in_node_section and \",\" in line:\n",
    "            parts = line.strip().split(\",\")\n",
    "            if len(parts) >= 4:\n",
    "                x = float(parts[1])\n",
    "                y = float(parts[2])\n",
    "                z = float(parts[3])\n",
    "                coords.append((x, y, z))\n",
    "\n",
    "    return coords\n",
    "\n",
    "def plot_node_coordinates(coords, title=\"Node Coordinates\"):\n",
    "    xs, ys, zs = zip(*coords)\n",
    "\n",
    "    fig = plt.figure(figsize=(10, 8))\n",
    "    ax = fig.add_subplot(111, projection='3d')\n",
    "    ax.scatter(xs, ys, zs, c='b', s=0.1)\n",
    "\n",
    "    ax.set_xlabel('X')\n",
    "    ax.set_ylabel('Y')\n",
    "    ax.set_zlabel('Z')\n",
    "    ax.set_title(title)\n",
    "\n",
    "    ax.view_init(elev=0, azim=90)\n",
    "\n",
    "    plt.tight_layout()\n",
    "    plt.show()\n"
   ]
  },
  {
   "cell_type": "code",
   "execution_count": 71,
   "id": "235c47db",
   "metadata": {},
   "outputs": [],
   "source": [
    "# inp_file = \"/home/ftk3187/github/GAMMA/GEOASNO_research/DED_GAMMA_solver/00_masking/input_swapped_offset/input_00.inp\"\n",
    "# coords = extract_nodes_from_inp(inp_file)\n",
    "# plot_node_coordinates(coords, title=\"input_00.inp (Y-Z Swapped)\")\n"
   ]
  },
  {
   "cell_type": "markdown",
   "id": "787d3622",
   "metadata": {},
   "source": [
    "## inp to k"
   ]
  },
  {
   "cell_type": "code",
   "execution_count": null,
   "id": "42f65c03",
   "metadata": {},
   "outputs": [
    {
     "name": "stdout",
     "output_type": "stream",
     "text": [
      "1.24.4\n",
      "✔️ Converted /home/ftk3187/github/GAMMA/GEOASNO_research/DED_GAMMA_solver/00_masking/input_swapped_offset/input_00.inp → /home/ftk3187/github/GAMMA/GEOASNO_research/DED_GAMMA_solver/00_masking/input_k/input_00.k\n"
     ]
    }
   ],
   "source": [
    "import numpy\n",
    "print(numpy.__version__)\n",
    "# ─── Postprocess: Convert to .k file ─────────────\n",
    "from gamma.simulator.preprocessor import write_keywords, write_birth, write_parameters\n",
    "import importlib\n",
    "import gamma.simulator.preprocessor as preprocessor\n",
    "importlib.reload(preprocessor)\n",
    "\n",
    "# Create output_k folder if it doesn't exist\n",
    "output_k_folder = \"/home/ftk3187/github/GAMMA/GEOASNO_research/DED_GAMMA_solver/00_masking/input_k\"\n",
    "input_inp_folder = \"/home/ftk3187/github/GAMMA/GEOASNO_research/DED_GAMMA_solver/00_masking/input_swapped_offset\"\n",
    "toolpath_folder = \"/home/ftk3187/github/GAMMA/GEOASNO_research/DED_GAMMA_solver/00_masking/toolpaths\"\n",
    "os.makedirs(output_k_folder, exist_ok=True)\n",
    "\n",
    "# Define paths\n",
    "input_inp_path = os.path.join(input_inp_folder, 'input_00.inp')  # or your swapped folder\n",
    "output_k_path = os.path.join(output_k_folder, 'input_00.k')\n",
    "toolpath_file = os.path.join(toolpath_folder, 'toolpath_0_x.crs')\n",
    "\n",
    "# Parameters for k conversion\n",
    "substrate_height = 20\n",
    "radius = 1.12\n",
    "path_resolution = 0.1\n",
    "\n",
    "# Write keyword file\n",
    "write_keywords(input_inp_path, output_k_path, substrate_height)\n",
    "\n",
    "# Append birth and camera settings\n",
    "write_birth(\n",
    "    output_k_path,\n",
    "    toolpath_file,\n",
    "    path_resolution,\n",
    "    radius,\n",
    "    gif_end=5,\n",
    "    nFrame=50,\n",
    "    mode=1,\n",
    "    camera_position=[(0, -50, 75), (0, 0, 0), (0.0, 0.0, 1.0)],\n",
    "    make_gif=False\n",
    ")\n",
    "\n",
    "# Add simulation parameters\n",
    "write_parameters(output_k_path)\n",
    "print(f\"✔️ Converted {input_inp_path} → {output_k_path}\")\n"
   ]
  },
  {
   "cell_type": "code",
   "execution_count": 73,
   "id": "26776b0e",
   "metadata": {},
   "outputs": [],
   "source": [
    "input_file_path = \"/home/ftk3187/github/GAMMA/GEOASNO_research/DED_GAMMA_solver/00_masking/input_k/\"\n",
    "input_file = os.path.join(input_file_path, 'input_00.k')\n",
    "output_file = input_file"
   ]
  },
  {
   "cell_type": "code",
   "execution_count": 74,
   "id": "68c5a5a4",
   "metadata": {},
   "outputs": [
    {
     "name": "stdout",
     "output_type": "stream",
     "text": [
      "✅ '*CONTROL_TERMINATION' 블록이 성공적으로 수정되어 '/home/ftk3187/github/GAMMA/GEOASNO_research/DED_GAMMA_solver/00_masking/input_k/input_00.k'에 저장되었습니다.\n"
     ]
    }
   ],
   "source": [
    "with open(input_file, \"r\") as f:\n",
    "    lines = f.readlines()\n",
    "\n",
    "modified_lines = []\n",
    "inside_block = False\n",
    "\n",
    "for i, line in enumerate(lines):\n",
    "    stripped = line.strip().upper()\n",
    "\n",
    "    # *CONTROL_TERMINATION 블록 시작 감지\n",
    "    if stripped.startswith(\"*CONTROL_TERMINATION\"):\n",
    "        inside_block = True\n",
    "        modified_lines.append(line)\n",
    "        continue\n",
    "\n",
    "    # $$ 주석줄은 그대로 유지\n",
    "    if inside_block and line.strip().startswith(\"$$\"):\n",
    "        modified_lines.append(line)\n",
    "        continue\n",
    "\n",
    "    # 다음 줄이 실제 값이므로 해당 줄을 100으로 치환\n",
    "    if inside_block:\n",
    "        modified_lines.append(\"   100\\n\")  # 원하는 포맷 유지\n",
    "        inside_block = False  # 블록 종료\n",
    "        continue\n",
    "\n",
    "    # 그 외 라인은 그대로\n",
    "    modified_lines.append(line)\n",
    "\n",
    "# 저장\n",
    "with open(output_file, \"w\") as f:\n",
    "    f.writelines(modified_lines)\n",
    "\n",
    "print(f\"✅ '*CONTROL_TERMINATION' 블록이 성공적으로 수정되어 '{output_file}'에 저장되었습니다.\")"
   ]
  },
  {
   "cell_type": "code",
   "execution_count": 75,
   "id": "9556ca6b",
   "metadata": {},
   "outputs": [
    {
     "name": "stdout",
     "output_type": "stream",
     "text": [
      "✅ '*MAT_THERMAL_ISOTROPIC' 블록이 정확히 해당 위치에서 교체되어 저장되었습니다.\n"
     ]
    }
   ],
   "source": [
    "# 대체할 블록 텍스트 (줄 단위 리스트)\n",
    "replacement_block = [\n",
    "    \"*MAT_THERMAL_ISOTROPIC_TD\\n\",\n",
    "    \"$HMNAME MATS       1MATT1_1\\n\",\n",
    "    \"         1   0.00440   1878   1928     286\\n\",\n",
    "    \"/home/ftk3187/github/GAMMA/GEOASNO_research/DED_GAMMA_solver/00_masking/examples/0_properties/TI64_cp.txt\\n\",\n",
    "    \"/home/ftk3187/github/GAMMA/GEOASNO_research/DED_GAMMA_solver/00_masking/examples/0_properties/TI64_cond.txt\\n\",\n",
    "    \"*MAT_THERMAL_ISOTROPIC_TD\\n\",\n",
    "    \"$HMNAME MATS       2MATT1_2\\n\",\n",
    "    \"         2   0.00440   1878   1928     286\\n\",\n",
    "    \"/home/ftk3187/github/GAMMA/GEOASNO_research/DED_GAMMA_solver/00_masking/examples/0_properties/TI64_cp.txt\\n\",\n",
    "    \"/home/ftk3187/github/GAMMA/GEOASNO_research/DED_GAMMA_solver/00_masking/examples/0_properties/TI64_cond.txt\\n\",\n",
    "]\n",
    "\n",
    "with open(input_file, \"r\") as f:\n",
    "    lines = f.readlines()\n",
    "\n",
    "new_lines = []\n",
    "i = 0\n",
    "while i < len(lines):\n",
    "    line = lines[i]\n",
    "\n",
    "    if line.strip().upper().startswith(\"*MAT_THERMAL_ISOTROPIC\"):\n",
    "        # 첫 블록만 교체 (1번만 대체되게 하기 위해)\n",
    "        # 이후 블록 시작 전까지 모두 스킵\n",
    "        while i < len(lines):\n",
    "            i += 1\n",
    "            if i < len(lines) and lines[i].strip().startswith(\"*\") and not lines[i].strip().upper().startswith(\"*MAT_THERMAL_ISOTROPIC\"):\n",
    "                break\n",
    "        new_lines.extend(replacement_block)\n",
    "        # 현재 줄(* 로 시작하는 다음 블록)도 포함\n",
    "        if i < len(lines):\n",
    "            new_lines.append(lines[i])\n",
    "            i += 1\n",
    "    else:\n",
    "        new_lines.append(line)\n",
    "        i += 1\n",
    "\n",
    "with open(output_file, \"w\") as f:\n",
    "    f.writelines(new_lines)\n",
    "\n",
    "print(f\"✅ '*MAT_THERMAL_ISOTROPIC' 블록이 정확히 해당 위치에서 교체되어 저장되었습니다.\")"
   ]
  },
  {
   "cell_type": "code",
   "execution_count": 76,
   "id": "ebaf3bb9",
   "metadata": {},
   "outputs": [
    {
     "name": "stdout",
     "output_type": "stream",
     "text": [
      "✅ '*GAUSS_LASER' 블록이 수정되어 '/home/ftk3187/github/GAMMA/GEOASNO_research/DED_GAMMA_solver/00_masking/input_k/input_00.k'에 저장되었습니다.\n"
     ]
    }
   ],
   "source": [
    "with open(input_file, \"r\") as f:\n",
    "    lines = f.readlines()\n",
    "\n",
    "new_lines = []\n",
    "i = 0\n",
    "while i < len(lines):\n",
    "    line = lines[i]\n",
    "    if line.strip().upper().startswith(\"*GAUSS_LASER\"):\n",
    "        new_lines.append(\"*GAUSS_LASER\\n\")\n",
    "        i += 1  # 기존 설명 줄 건너뜀\n",
    "        new_lines.append(\"500.0 1.0 0.4\\n\")\n",
    "        i += 1\n",
    "    else:\n",
    "        new_lines.append(line)\n",
    "        i += 1\n",
    "\n",
    "with open(output_file, \"w\") as f:\n",
    "    f.writelines(new_lines)\n",
    "\n",
    "print(f\"✅ '*GAUSS_LASER' 블록이 수정되어 '{output_file}'에 저장되었습니다.\")"
   ]
  },
  {
   "cell_type": "code",
   "execution_count": 77,
   "id": "e58900cd",
   "metadata": {},
   "outputs": [
    {
     "name": "stdout",
     "output_type": "stream",
     "text": [
      "✅ '*CONTROL_TIMESTEP' 블록에서 DTINIT 값이 수정되어 '/home/ftk3187/github/GAMMA/GEOASNO_research/DED_GAMMA_solver/00_masking/input_k/input_00.k'에 저장되었습니다.\n"
     ]
    }
   ],
   "source": [
    "with open(input_file, \"r\") as f:\n",
    "    lines = f.readlines()\n",
    "\n",
    "new_lines = []\n",
    "i = 0\n",
    "while i < len(lines):\n",
    "    line = lines[i]\n",
    "    if line.strip().upper().startswith(\"*CONTROL_TIMESTEP\"):\n",
    "        new_lines.append(line)  # 그대로 유지\n",
    "        i += 1\n",
    "        if i < len(lines):\n",
    "            comment_line = lines[i]\n",
    "            new_lines.append(comment_line)  # 주석 줄도 유지\n",
    "            i += 1\n",
    "        if i < len(lines):\n",
    "            data_line = lines[i]\n",
    "            tokens = data_line.strip().split()\n",
    "            if len(tokens) > 0 and tokens[0] == \"1.0E-2\":\n",
    "                tokens[0] = \"1.0E-3\"\n",
    "                new_data_line = \"    \" + \"   \".join(tokens) + \"\\n\"\n",
    "                new_lines.append(new_data_line)\n",
    "            else:\n",
    "                new_lines.append(data_line)\n",
    "            i += 1\n",
    "    else:\n",
    "        new_lines.append(line)\n",
    "        i += 1\n",
    "\n",
    "with open(output_file, \"w\") as f:\n",
    "    f.writelines(new_lines)\n",
    "\n",
    "print(f\"✅ '*CONTROL_TIMESTEP' 블록에서 DTINIT 값이 수정되어 '{output_file}'에 저장되었습니다.\")"
   ]
  }
 ],
 "metadata": {
  "kernelspec": {
   "display_name": "gamma",
   "language": "python",
   "name": "python3"
  },
  "language_info": {
   "codemirror_mode": {
    "name": "ipython",
    "version": 3
   },
   "file_extension": ".py",
   "mimetype": "text/x-python",
   "name": "python",
   "nbconvert_exporter": "python",
   "pygments_lexer": "ipython3",
   "version": "3.10.13"
  }
 },
 "nbformat": 4,
 "nbformat_minor": 5
}
