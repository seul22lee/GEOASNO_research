{
 "cells": [
  {
   "cell_type": "code",
   "execution_count": 15,
   "id": "88d01962",
   "metadata": {},
   "outputs": [],
   "source": [
    "import sys\n",
    "from gamma.simulator.preprocessor import write_keywords,write_birth,write_parameters\n",
    "\n",
    "import importlib\n",
    "import gamma.simulator.preprocessor as preprocessor\n",
    "importlib.reload(preprocessor)\n",
    "\n",
    "file_name = 'cylinder.inp' #input mesh file from abaqus\n",
    "toolpath_file = 'cylinder_toolpath.crs'\n",
    "output_file = 'cylinder.k' #define keyword file name\n",
    "\n",
    "substrate_height = 15\n",
    "radius = 1.12\n",
    "path_resolution = 0.1 # half of the element size\n",
    "write_keywords(file_name,output_file,substrate_height)\n",
    "write_birth(output_file,toolpath_file,path_resolution,radius,gif_end=5,nFrame=50,mode=1,camera_position=[(0, -50, 75),(0, 0, 0),(0.0, 0.0, 1.0)], make_gif=False)\n",
    "write_parameters(output_file)"
   ]
  },
  {
   "cell_type": "code",
   "execution_count": 16,
   "id": "ff4fbfba",
   "metadata": {},
   "outputs": [
    {
     "name": "stdout",
     "output_type": "stream",
     "text": [
      "✅ '*CONTROL_TERMINATION' 블록이 성공적으로 수정되어 'cylinder.k'에 저장되었습니다.\n"
     ]
    }
   ],
   "source": [
    "input_file = \"cylinder.k\"\n",
    "output_file = input_file  # 원본 덮어쓰기 원하면 input_file = output_file\n",
    "\n",
    "with open(input_file, \"r\") as f:\n",
    "    lines = f.readlines()\n",
    "\n",
    "modified_lines = []\n",
    "inside_block = False\n",
    "\n",
    "for i, line in enumerate(lines):\n",
    "    stripped = line.strip().upper()\n",
    "\n",
    "    # *CONTROL_TERMINATION 블록 시작 감지\n",
    "    if stripped.startswith(\"*CONTROL_TERMINATION\"):\n",
    "        inside_block = True\n",
    "        modified_lines.append(line)\n",
    "        continue\n",
    "\n",
    "    # $$ 주석줄은 그대로 유지\n",
    "    if inside_block and line.strip().startswith(\"$$\"):\n",
    "        modified_lines.append(line)\n",
    "        continue\n",
    "\n",
    "    # 다음 줄이 실제 값이므로 해당 줄을 100으로 치환\n",
    "    if inside_block:\n",
    "        modified_lines.append(\"   100\\n\")  # 원하는 포맷 유지\n",
    "        inside_block = False  # 블록 종료\n",
    "        continue\n",
    "\n",
    "    # 그 외 라인은 그대로\n",
    "    modified_lines.append(line)\n",
    "\n",
    "# 저장\n",
    "with open(output_file, \"w\") as f:\n",
    "    f.writelines(modified_lines)\n",
    "\n",
    "print(f\"✅ '*CONTROL_TERMINATION' 블록이 성공적으로 수정되어 '{output_file}'에 저장되었습니다.\")\n"
   ]
  },
  {
   "cell_type": "code",
   "execution_count": 17,
   "id": "c56851ad",
   "metadata": {},
   "outputs": [
    {
     "name": "stdout",
     "output_type": "stream",
     "text": [
      "✅ '*MAT_THERMAL_ISOTROPIC' 블록이 정확히 해당 위치에서 교체되어 저장되었습니다.\n"
     ]
    }
   ],
   "source": [
    "input_file = \"cylinder.k\"\n",
    "output_file = input_file  # 덮어쓰려면 그대로 유지\n",
    "\n",
    "# 대체할 블록 텍스트 (줄 단위 리스트)\n",
    "replacement_block = [\n",
    "    \"*MAT_THERMAL_ISOTROPIC_TD\\n\",\n",
    "    \"$HMNAME MATS       1MATT1_1\\n\",\n",
    "    \"         1   0.00440   1878   1928     286\\n\",\n",
    "    \"/home/ftk3187/github/GAMMA/DED_GAMMA_solver/examples/0_properties/TI64_cp.txt\\n\",\n",
    "    \"/home/ftk3187/github/GAMMA/DED_GAMMA_solver/examples/0_properties/TI64_cond.txt\\n\",\n",
    "    \"*MAT_THERMAL_ISOTROPIC_TD\\n\",\n",
    "    \"$HMNAME MATS       2MATT1_2\\n\",\n",
    "    \"         2   0.00440   1878   1928     286\\n\",\n",
    "    \"/home/ftk3187/github/GAMMA/DED_GAMMA_solver/examples/0_properties/TI64_cp.txt\\n\",\n",
    "    \"/home/ftk3187/github/GAMMA/DED_GAMMA_solver/examples/0_properties/TI64_cond.txt\\n\",\n",
    "]\n",
    "\n",
    "with open(input_file, \"r\") as f:\n",
    "    lines = f.readlines()\n",
    "\n",
    "new_lines = []\n",
    "i = 0\n",
    "while i < len(lines):\n",
    "    line = lines[i]\n",
    "\n",
    "    if line.strip().upper().startswith(\"*MAT_THERMAL_ISOTROPIC\"):\n",
    "        # 첫 블록만 교체 (1번만 대체되게 하기 위해)\n",
    "        # 이후 블록 시작 전까지 모두 스킵\n",
    "        while i < len(lines):\n",
    "            i += 1\n",
    "            if i < len(lines) and lines[i].strip().startswith(\"*\") and not lines[i].strip().upper().startswith(\"*MAT_THERMAL_ISOTROPIC\"):\n",
    "                break\n",
    "        new_lines.extend(replacement_block)\n",
    "        # 현재 줄(* 로 시작하는 다음 블록)도 포함\n",
    "        if i < len(lines):\n",
    "            new_lines.append(lines[i])\n",
    "            i += 1\n",
    "    else:\n",
    "        new_lines.append(line)\n",
    "        i += 1\n",
    "\n",
    "with open(output_file, \"w\") as f:\n",
    "    f.writelines(new_lines)\n",
    "\n",
    "print(f\"✅ '*MAT_THERMAL_ISOTROPIC' 블록이 정확히 해당 위치에서 교체되어 저장되었습니다.\")\n"
   ]
  },
  {
   "cell_type": "code",
   "execution_count": 18,
   "id": "51518fa2",
   "metadata": {},
   "outputs": [
    {
     "name": "stdout",
     "output_type": "stream",
     "text": [
      "✅ '*GAUSS_LASER' 블록이 수정되어 'cylinder.k'에 저장되었습니다.\n"
     ]
    }
   ],
   "source": [
    "input_file = \"cylinder.k\"\n",
    "output_file = input_file = \"cylinder.k\"\n",
    "\n",
    "with open(input_file, \"r\") as f:\n",
    "    lines = f.readlines()\n",
    "\n",
    "new_lines = []\n",
    "i = 0\n",
    "while i < len(lines):\n",
    "    line = lines[i]\n",
    "    if line.strip().upper().startswith(\"*GAUSS_LASER\"):\n",
    "        new_lines.append(\"*GAUSS_LASER\\n\")\n",
    "        i += 1  # 기존 설명 줄 건너뜀\n",
    "        new_lines.append(\"500.0 1.0 0.4\\n\")\n",
    "        i += 1\n",
    "    else:\n",
    "        new_lines.append(line)\n",
    "        i += 1\n",
    "\n",
    "with open(output_file, \"w\") as f:\n",
    "    f.writelines(new_lines)\n",
    "\n",
    "print(f\"✅ '*GAUSS_LASER' 블록이 수정되어 '{output_file}'에 저장되었습니다.\")\n"
   ]
  },
  {
   "cell_type": "code",
   "execution_count": 19,
   "id": "f6b479ae",
   "metadata": {},
   "outputs": [
    {
     "name": "stdout",
     "output_type": "stream",
     "text": [
      "✅ '*CONTROL_TIMESTEP' 블록에서 DTINIT 값이 수정되어 'cylinder.k'에 저장되었습니다.\n"
     ]
    }
   ],
   "source": [
    "input_file = \"cylinder.k\"\n",
    "output_file = input_file  # 덮어쓰기\n",
    "\n",
    "with open(input_file, \"r\") as f:\n",
    "    lines = f.readlines()\n",
    "\n",
    "new_lines = []\n",
    "i = 0\n",
    "while i < len(lines):\n",
    "    line = lines[i]\n",
    "    if line.strip().upper().startswith(\"*CONTROL_TIMESTEP\"):\n",
    "        new_lines.append(line)  # 그대로 유지\n",
    "        i += 1\n",
    "        if i < len(lines):\n",
    "            comment_line = lines[i]\n",
    "            new_lines.append(comment_line)  # 주석 줄도 유지\n",
    "            i += 1\n",
    "        if i < len(lines):\n",
    "            data_line = lines[i]\n",
    "            tokens = data_line.strip().split()\n",
    "            if len(tokens) > 0 and tokens[0] == \"1.0E-2\":\n",
    "                tokens[0] = \"1.0E-3\"\n",
    "                new_data_line = \"    \" + \"   \".join(tokens) + \"\\n\"\n",
    "                new_lines.append(new_data_line)\n",
    "            else:\n",
    "                new_lines.append(data_line)\n",
    "            i += 1\n",
    "    else:\n",
    "        new_lines.append(line)\n",
    "        i += 1\n",
    "\n",
    "with open(output_file, \"w\") as f:\n",
    "    f.writelines(new_lines)\n",
    "\n",
    "print(f\"✅ '*CONTROL_TIMESTEP' 블록에서 DTINIT 값이 수정되어 '{output_file}'에 저장되었습니다.\")\n"
   ]
  }
 ],
 "metadata": {
  "kernelspec": {
   "display_name": "gamma",
   "language": "python",
   "name": "python3"
  },
  "language_info": {
   "codemirror_mode": {
    "name": "ipython",
    "version": 3
   },
   "file_extension": ".py",
   "mimetype": "text/x-python",
   "name": "python",
   "nbconvert_exporter": "python",
   "pygments_lexer": "ipython3",
   "version": "3.10.12"
  }
 },
 "nbformat": 4,
 "nbformat_minor": 5
}
