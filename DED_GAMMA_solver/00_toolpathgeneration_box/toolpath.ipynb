{
 "cells": [
  {
   "cell_type": "code",
   "execution_count": 51,
   "id": "c595b6d5",
   "metadata": {},
   "outputs": [
    {
     "name": "stdout",
     "output_type": "stream",
     "text": [
      "✅ CRS file saved as 'box_toolpath.crs'\n"
     ]
    }
   ],
   "source": [
    "import xml.etree.ElementTree as ET\n",
    "\n",
    "# 입력 XML 파일 경로\n",
    "xml_file = \"box_toolpath.xml\"\n",
    "\n",
    "# 출력 CRS 파일 경로\n",
    "output_file = \"box_toolpath.crs\"\n",
    "\n",
    "# XML 파싱\n",
    "tree = ET.parse(xml_file)\n",
    "root = tree.getroot()\n",
    "\n",
    "# 레이어별로 z 값 계산\n",
    "points = []\n",
    "layer_index = 0\n",
    "start_z = 0.2\n",
    "dz = 0.2\n",
    "\n",
    "for layer in root.findall(\".//Layer\"):\n",
    "    z_val = start_z + layer_index * dz\n",
    "    for segment in layer.findall(\".//Segment\"):\n",
    "        for point in segment.findall(\"Point\"):\n",
    "            x = float(point.attrib[\"x\"])\n",
    "            y = float(point.attrib[\"y\"])\n",
    "            z = z_val  # 고정된 z 오프셋\n",
    "            points.append((x, y, z))\n",
    "    layer_index += 1\n",
    "\n",
    "# .crs 포맷으로 저장\n",
    "with open(output_file, \"w\") as f:\n",
    "    for i, (x, y, z) in enumerate(points):\n",
    "        flag = i % 2\n",
    "        f.write(f\"{i}\\t{x:.5f}\\t{y:.5f}\\t{z:.5f}\\t{flag}\\n\")\n",
    "\n",
    "print(f\"✅ CRS file saved as '{output_file}'\")\n"
   ]
  },
  {
   "cell_type": "code",
   "execution_count": 52,
   "id": "eee0e977",
   "metadata": {},
   "outputs": [
    {
     "name": "stdout",
     "output_type": "stream",
     "text": [
      "x: min=131.79102, max=151.79297\n",
      "y: min=123.74601, max=143.74791\n",
      "z: min=0.4, max=4.2\n"
     ]
    }
   ],
   "source": [
    "import pandas as pd\n",
    "\n",
    "# CRS 파일 경로\n",
    "crs_file = \"box_toolpath.crs\"\n",
    "\n",
    "# 파일 읽기 (탭으로 구분된 5열: timestep, x, y, z, flag)\n",
    "df = pd.read_csv(crs_file, sep=\"\\t\", header=None, names=[\"timestep\", \"x\", \"y\", \"z\", \"flag\"])\n",
    "\n",
    "# 최소/최대값 계산\n",
    "x_min, x_max = df[\"x\"].min(), df[\"x\"].max()\n",
    "y_min, y_max = df[\"y\"].min(), df[\"y\"].max()\n",
    "z_min, z_max = df[\"z\"].min(), df[\"z\"].max()\n",
    "\n",
    "print(f\"x: min={x_min}, max={x_max}\")\n",
    "print(f\"y: min={y_min}, max={y_max}\")\n",
    "print(f\"z: min={z_min}, max={z_max}\")\n"
   ]
  },
  {
   "cell_type": "code",
   "execution_count": 53,
   "id": "3376d0d2",
   "metadata": {},
   "outputs": [
    {
     "name": "stdout",
     "output_type": "stream",
     "text": [
      "✅ Offset + formatting applied. Saved to 'box_toolpath.crs'\n"
     ]
    }
   ],
   "source": [
    "import pandas as pd\n",
    "\n",
    "# 파일 경로\n",
    "input_file = \"box_toolpath.crs\"\n",
    "output_file = input_file\n",
    "\n",
    "# CRS 파일 읽기\n",
    "df = pd.read_csv(input_file, sep=\"\\t\", header=None, names=[\"timestep\", \"x\", \"y\", \"z\", \"flag\"])\n",
    "\n",
    "# 현재 최소값\n",
    "x_min, y_min = df[\"x\"].min(), df[\"y\"].min()\n",
    "\n",
    "# 오프셋 계산\n",
    "x_offset = -10 - x_min\n",
    "y_offset = -10 - y_min\n",
    "\n",
    "# 오프셋 적용\n",
    "df[\"x\"] += x_offset\n",
    "df[\"y\"] += y_offset\n",
    "\n",
    "# 소수점 4자리까지 포맷 설정하여 저장\n",
    "with open(output_file, \"w\") as f:\n",
    "    for _, row in df.iterrows():\n",
    "        f.write(f\"{int(row['timestep'])}\\t{row['x']:.4f}\\t{row['y']:.4f}\\t{row['z']:.4f}\\t{int(row['flag'])}\\n\")\n",
    "\n",
    "print(f\"✅ Offset + formatting applied. Saved to '{output_file}'\")\n"
   ]
  },
  {
   "cell_type": "code",
   "execution_count": 54,
   "id": "29fae8ef",
   "metadata": {},
   "outputs": [
    {
     "name": "stdout",
     "output_type": "stream",
     "text": [
      "✅ Z in [1.0, 2.0, 3.0, 4.0]만 필터링되어 저장됨 → 'box_toolpath.crs'\n"
     ]
    }
   ],
   "source": [
    "import pandas as pd\n",
    "import numpy as np\n",
    "\n",
    "# 파일 경로\n",
    "input_file = \"box_toolpath.crs\"\n",
    "output_file = input_file\n",
    "\n",
    "# 유지할 Z 값 목록과 허용 오차\n",
    "keep_z_list = [1.0, 2.0, 3.0, 4.0]\n",
    "tol = 1e-4\n",
    "\n",
    "# CRS 파일 읽기\n",
    "df = pd.read_csv(input_file, sep=\"\\t\", header=None, names=[\"timestep\", \"x\", \"y\", \"z\", \"flag\"])\n",
    "\n",
    "# Z 값 필터링\n",
    "filtered_df = pd.concat([\n",
    "    df[np.abs(df[\"z\"] - z_val) < tol] for z_val in keep_z_list\n",
    "], ignore_index=True)\n",
    "\n",
    "# 저장: 원래 형식 그대로 (탭 구분, 소수점 4자리)\n",
    "with open(output_file, \"w\") as f:\n",
    "    for _, row in filtered_df.iterrows():\n",
    "        f.write(f\"{int(row['timestep'])}\\t{row['x']:.4f}\\t{row['y']:.4f}\\t{row['z']:.4f}\\t{int(row['flag'])}\\n\")\n",
    "\n",
    "print(f\"✅ Z in {keep_z_list}만 필터링되어 저장됨 → '{output_file}'\")"
   ]
  },
  {
   "cell_type": "code",
   "execution_count": 55,
   "id": "e5bfcd35",
   "metadata": {},
   "outputs": [
    {
     "name": "stdout",
     "output_type": "stream",
     "text": [
      "✅ 1열 timestep을 0부터 재번호하여 저장 완료 → 'box_toolpath.crs'\n"
     ]
    }
   ],
   "source": [
    "import pandas as pd\n",
    "\n",
    "# 파일 경로\n",
    "input_file = \"box_toolpath.crs\"\n",
    "output_file = input_file  # 덮어쓰기\n",
    "\n",
    "# 파일 읽기\n",
    "df = pd.read_csv(input_file, sep=\"\\t\", header=None, names=[\"timestep\", \"x\", \"y\", \"z\", \"flag\"])\n",
    "\n",
    "# ✅ timestep 열을 0부터 재번호\n",
    "df[\"timestep\"] = range(len(df))\n",
    "\n",
    "# 저장: 탭 구분, 소수점 4자리 유지\n",
    "with open(output_file, \"w\") as f:\n",
    "    for _, row in df.iterrows():\n",
    "        f.write(f\"{int(row['timestep'])}\\t{row['x']:.4f}\\t{row['y']:.4f}\\t{row['z']:.4f}\\t{int(row['flag'])}\\n\")\n",
    "\n",
    "print(f\"✅ 1열 timestep을 0부터 재번호하여 저장 완료 → '{output_file}'\")\n"
   ]
  },
  {
   "cell_type": "code",
   "execution_count": 56,
   "id": "d66c2205",
   "metadata": {},
   "outputs": [
    {
     "name": "stdout",
     "output_type": "stream",
     "text": [
      "✅ 거리 기반 timestep을 소수점 4자리로 계산하여 저장 완료 → 'box_toolpath.crs'\n"
     ]
    }
   ],
   "source": [
    "import pandas as pd\n",
    "import numpy as np\n",
    "\n",
    "# 파일 경로\n",
    "input_file = \"box_toolpath.crs\"\n",
    "output_file = input_file  # 덮어쓰기\n",
    "\n",
    "# 거리 대비 timestep 증가 비율\n",
    "scale = 0.1\n",
    "\n",
    "# 파일 읽기\n",
    "df = pd.read_csv(input_file, sep=\"\\t\", header=None, names=[\"timestep\", \"x\", \"y\", \"z\", \"flag\"])\n",
    "\n",
    "# 거리 기반 timestep 계산\n",
    "timestep = [0.0]  # 첫 번째는 항상 0.0\n",
    "for i in range(1, len(df)):\n",
    "    dx = df.loc[i, \"x\"] - df.loc[i-1, \"x\"]\n",
    "    dy = df.loc[i, \"y\"] - df.loc[i-1, \"y\"]\n",
    "    dz = df.loc[i, \"z\"] - df.loc[i-1, \"z\"]\n",
    "    dist = np.sqrt(dx**2 + dy**2 + dz**2)\n",
    "    timestep.append(timestep[-1] + scale * dist)\n",
    "\n",
    "# 소수점 4자리까지 반영\n",
    "df[\"timestep\"] = [round(t, 4) for t in timestep]\n",
    "\n",
    "# 저장: 탭 구분, 소수점 4자리 유지\n",
    "with open(output_file, \"w\") as f:\n",
    "    for _, row in df.iterrows():\n",
    "        f.write(f\"{row['timestep']:.4f}\\t{row['x']:.4f}\\t{row['y']:.4f}\\t{row['z']:.4f}\\t{int(row['flag'])}\\n\")\n",
    "\n",
    "print(f\"✅ 거리 기반 timestep을 소수점 4자리로 계산하여 저장 완료 → '{output_file}'\")\n"
   ]
  }
 ],
 "metadata": {
  "kernelspec": {
   "display_name": "gamma",
   "language": "python",
   "name": "python3"
  },
  "language_info": {
   "codemirror_mode": {
    "name": "ipython",
    "version": 3
   },
   "file_extension": ".py",
   "mimetype": "text/x-python",
   "name": "python",
   "nbconvert_exporter": "python",
   "pygments_lexer": "ipython3",
   "version": "3.10.12"
  }
 },
 "nbformat": 4,
 "nbformat_minor": 5
}
